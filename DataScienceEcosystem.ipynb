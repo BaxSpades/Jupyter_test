{
 "cells": [
  {
   "cell_type": "markdown",
   "id": "998ead7e",
   "metadata": {},
   "source": [
    "# H1 Data Science Tools and Ecosystem"
   ]
  },
  {
   "cell_type": "markdown",
   "id": "a7edf1b1",
   "metadata": {},
   "source": [
    "### H3 In this notebook, Data Science Tools and Ecosystem are summarized."
   ]
  },
  {
   "cell_type": "markdown",
   "id": "9280fd1e",
   "metadata": {},
   "source": [
    "**Objectives:**\n",
    "\n",
    "- languages of Data Scientists\n",
    "- libraries used by Data Scientists\n",
    "- examples of arithmetic expressions in Python"
   ]
  },
  {
   "cell_type": "markdown",
   "id": "40e28651",
   "metadata": {},
   "source": [
    "##### H5 Some of the popular languages that Data Scientists use are:"
   ]
  },
  {
   "cell_type": "markdown",
   "id": "5e9776d0",
   "metadata": {},
   "source": [
    "1. Data set: A structured collection of data\n",
    "\n",
    "2. Deep learning: A specialized type of machine learning. It refers to ageneral set of models and techniques that loosely emulate the way the human brain solves a wide range ofproblems\n",
    "\n",
    "3. Regression models: Are used to predict a numeric (or “real”) value"
   ]
  },
  {
   "cell_type": "markdown",
   "id": "eb8411cd",
   "metadata": {},
   "source": [
    "##### H5Some of the commonly used libraries used by Data Scientists include:"
   ]
  },
  {
   "cell_type": "markdown",
   "id": "d2b68e01",
   "metadata": {},
   "source": [
    "1. ggplot2: A popular library for data visualization in R\n",
    "2. NumPy: based on arrays and matrices, allowingyou to apply mathematical functions to the arrays\n",
    "3. Pandas: A library that offers data structures and tools foreffective data cleaning, manipulation, and analysis\n",
    "4. Lattice: It is a high-level data visualization library that canhandle graphics without customizations\n",
    "5. TensorFlow: Deep Learning library for dataflow that was built withC++"
   ]
  },
  {
   "cell_type": "markdown",
   "id": "8bba46de",
   "metadata": {},
   "source": [
    "Data Science Tools|\n",
    "-------------------\n",
    "GitHub|\n",
    "Jupyter|\n",
    "MySQL|"
   ]
  },
  {
   "cell_type": "markdown",
   "id": "be615e10",
   "metadata": {},
   "source": [
    "### H3 Below are a few examples of evaluating arithmetic expressions in Python"
   ]
  },
  {
   "cell_type": "code",
   "execution_count": 3,
   "id": "246ddc44",
   "metadata": {},
   "outputs": [
    {
     "data": {
      "text/plain": [
       "17"
      ]
     },
     "execution_count": 3,
     "metadata": {},
     "output_type": "execute_result"
    }
   ],
   "source": [
    "# This a simple arithmetic expression to mutiply then add integers\n",
    "(3*4)+5"
   ]
  },
  {
   "cell_type": "code",
   "execution_count": 27,
   "id": "47382a7c",
   "metadata": {},
   "outputs": [
    {
     "name": "stdout",
     "output_type": "stream",
     "text": [
      "200 minutes are 3.3333333333333335 hours\n"
     ]
    }
   ],
   "source": [
    "#This will convert 200 minutes to hours by diving by 60.\n",
    "\n",
    "#set x as minutes\n",
    "x = 200\n",
    "\n",
    "#set y as hours\n",
    "y = x/60\n",
    "\n",
    "hours=('{} minutes are {} hours')\n",
    "print(hours.format(x, y))\n"
   ]
  },
  {
   "cell_type": "code",
   "execution_count": null,
   "id": "feb9f15e",
   "metadata": {},
   "outputs": [],
   "source": [
    "Objectives"
   ]
  },
  {
   "cell_type": "markdown",
   "id": "09fb4af1",
   "metadata": {},
   "source": [
    "## H2 Author\n",
    "\n",
    "Federico Mercuri"
   ]
  },
  {
   "cell_type": "code",
   "execution_count": null,
   "id": "0b24c392",
   "metadata": {},
   "outputs": [],
   "source": []
  }
 ],
 "metadata": {
  "kernelspec": {
   "display_name": "Python 3 (ipykernel)",
   "language": "python",
   "name": "python3"
  },
  "language_info": {
   "codemirror_mode": {
    "name": "ipython",
    "version": 3
   },
   "file_extension": ".py",
   "mimetype": "text/x-python",
   "name": "python",
   "nbconvert_exporter": "python",
   "pygments_lexer": "ipython3",
   "version": "3.11.4"
  }
 },
 "nbformat": 4,
 "nbformat_minor": 5
}
